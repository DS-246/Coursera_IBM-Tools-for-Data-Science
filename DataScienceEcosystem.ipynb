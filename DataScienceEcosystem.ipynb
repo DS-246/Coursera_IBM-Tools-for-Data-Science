{
 "cells": [
  {
   "cell_type": "markdown",
   "metadata": {},
   "source": [
    "<center>\n",
    "    <img src=\"https://cf-courses-data.s3.us.cloud-object-storage.appdomain.cloud/IBMDeveloperSkillsNetwork-DS0105EN-SkillsNetwork/labs/Module2/images/SN_web_lightmode.png\" width=\"300\" alt=\"cognitiveclass.ai logo\">\n",
    "</center>\n"
   ]
  },
  {
   "cell_type": "markdown",
   "metadata": {},
   "source": [
    "#### Add your code below following the instructions given in the course\n"
   ]
  },
  {
   "cell_type": "markdown",
   "metadata": {},
   "source": [
    "# Data Science Tools and Ecosystem"
   ]
  },
  {
   "cell_type": "markdown",
   "metadata": {},
   "source": [
    "In this notebook, Data Science Tools and Ecosystem are summarized."
   ]
  },
  {
   "cell_type": "markdown",
   "metadata": {},
   "source": [
    "**Objectives** :\n",
    "* Review languages commonly used in Data Science\n",
    "* List examples of the various libraries: scientific, visualization, machine learning, and deep learning\n",
    "* List examples of Open Source, Commercial, and Cloud-based tools in various categories \n",
    "* Create a Jupyter Notebook with markdown and code cells\n"
   ]
  },
  {
   "cell_type": "markdown",
   "metadata": {},
   "source": [
    "##### *Some of the more popular languages that Data Scientists use are:*"
   ]
  },
  {
   "cell_type": "markdown",
   "metadata": {},
   "source": [
    "1. **Python** : The most popular choice for data science due to its simplicity and extensive libraries\n",
    "2. **R** : Excellent for statistical analysis and data visualization\n",
    "3. **SQL** : Essential for querying and managing databases, as data often needs to be extracted and manipulated before analysis.\n",
    "4. **Julia** : Known for its performance in numerical computing, it's gaining popularity in data science for handling large datasets efficiently.\n",
    "5. **JavaScript** : Although unconventional, it's used in data visualization, especially for interactive web-based dashboards."
   ]
  },
  {
   "cell_type": "markdown",
   "metadata": {},
   "source": [
    "##### *Some of the commonly used libraries used by Data Scientists include:*"
   ]
  },
  {
   "cell_type": "markdown",
   "metadata": {},
   "source": [
    "1. **NumPy (Python)**: A fundamental library for numerical computing, providing support for arrays, matrices, and mathematical functions.\n",
    "2. **pandas(Python)**: Ideal for data manipulation and analysis, it simplifies handling structured data through DataFrames\n",
    "3. **Matplotlib (Python)**: A versatile library for creating static, animated, and interactive visualizations.\n",
    "4. **scikit-learn (Python)**: Perfect for machine learning, offering algorithms for classification, regression, and clustering tasks.\n",
    "5. **TensorFlow (Python)**: Popular for deep learning, providing powerful tools for building and training neural networks.\n",
    "6. **ggplot2 (R)**: A powerful library for data visualization, enabling the creation of elegant and informative plots.\n",
    "7. **caret (R)**: A comprehensive package for machine learning, offering tools for data preprocessing and model training."
   ]
  },
  {
   "cell_type": "markdown",
   "metadata": {},
   "source": [
    "|Data Science Tools|\n",
    "|------------------|\n",
    "|Jupyter Notebooks|\n",
    "|Apache Zeppelin|\n",
    "| R Studio|"
   ]
  },
  {
   "cell_type": "markdown",
   "metadata": {},
   "source": [
    "### Below are a few examples of evaluating arithmetic expressions in Python"
   ]
  },
  {
   "cell_type": "code",
   "execution_count": 1,
   "metadata": {},
   "outputs": [
    {
     "data": {
      "text/plain": [
       "17"
      ]
     },
     "execution_count": 1,
     "metadata": {},
     "output_type": "execute_result"
    }
   ],
   "source": [
    "# This is a simple arithmetic expression to multiply then add integers\n",
    "(3*4)+5"
   ]
  },
  {
   "cell_type": "code",
   "execution_count": 2,
   "metadata": {},
   "outputs": [
    {
     "data": {
      "text/plain": [
       "3.3333333333333335"
      ]
     },
     "execution_count": 2,
     "metadata": {},
     "output_type": "execute_result"
    }
   ],
   "source": [
    "# This will convert 200 minutes to hours by diving by 60\n",
    "(200 / 60)"
   ]
  },
  {
   "cell_type": "markdown",
   "metadata": {},
   "source": [
    "## Author\n",
    "DSmith"
   ]
  }
 ],
 "metadata": {
  "kernelspec": {
   "display_name": "Python 3 (ipykernel)",
   "language": "python",
   "name": "python3"
  },
  "language_info": {
   "codemirror_mode": {
    "name": "ipython",
    "version": 3
   },
   "file_extension": ".py",
   "mimetype": "text/x-python",
   "name": "python",
   "nbconvert_exporter": "python",
   "pygments_lexer": "ipython3",
   "version": "3.12.8"
  }
 },
 "nbformat": 4,
 "nbformat_minor": 4
}
